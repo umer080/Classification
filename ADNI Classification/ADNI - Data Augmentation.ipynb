{
 "cells": [
  {
   "cell_type": "code",
   "execution_count": 1,
   "id": "6dfccfc0",
   "metadata": {},
   "outputs": [],
   "source": [
    "import os\n",
    "import io\n",
    "from tqdm import tqdm\n",
    "import numpy as np\n",
    "import matplotlib.pyplot as plt\n",
    "import cv2\n",
    "from sklearn.utils import shuffle\n",
    "from tensorflow.keras.preprocessing.image import ImageDataGenerator\n",
    "from keras.preprocessing.image import ImageDataGenerator"
   ]
  },
  {
   "cell_type": "code",
   "execution_count": 2,
   "id": "b25ca990",
   "metadata": {},
   "outputs": [],
   "source": [
    "labels = ['AD', 'CN', 'EMCI', 'LMCI', 'MCI']"
   ]
  },
  {
   "cell_type": "code",
   "execution_count": 3,
   "id": "f2c76f48",
   "metadata": {},
   "outputs": [],
   "source": [
    "datagen = ImageDataGenerator(        \n",
    "        rotation_range = 45,\n",
    "        shear_range = 0.3,\n",
    "        zoom_range = 0.3,\n",
    "        horizontal_flip = True,\n",
    "        brightness_range = (0.5, 1.5))"
   ]
  },
  {
   "cell_type": "code",
   "execution_count": 4,
   "id": "00b11d82",
   "metadata": {},
   "outputs": [],
   "source": [
    "def trainImageGenarator(class_folder, img_gen_directory, image_prefix):\n",
    "\n",
    "    image_size = 226\n",
    "    folderDirectory = os.path.join('Alzheimers-ADNI', 'train', class_folder)\n",
    "    for j in tqdm(os.listdir(folderDirectory)):\n",
    "        image = cv2.imread(os.path.join(folderDirectory, j))\n",
    "        image = cv2.cvtColor(image, cv2.COLOR_BGR2RGB)\n",
    "        image = cv2.resize(image, (image_size, image_size))\n",
    "        image = image.reshape(1, image_size, image_size, 3)\n",
    "    \n",
    "        k=0\n",
    "        for batch in datagen.flow(np.array(image), batch_size=32,\n",
    "                          save_to_dir = img_gen_directory,\n",
    "                          save_prefix = image_prefix,\n",
    "                          save_format = 'jpg'):\n",
    "            k += 1 \n",
    "            if k > 20:\n",
    "                break"
   ]
  },
  {
   "cell_type": "code",
   "execution_count": 5,
   "id": "f98cd4ec",
   "metadata": {},
   "outputs": [
    {
     "name": "stderr",
     "output_type": "stream",
     "text": [
      "100%|█████████████████████████████████████████| 145/145 [00:23<00:00,  6.22it/s]\n",
      "100%|█████████████████████████████████████████| 493/493 [01:07<00:00,  7.26it/s]\n",
      "100%|█████████████████████████████████████████| 204/204 [00:27<00:00,  7.43it/s]\n",
      "100%|███████████████████████████████████████████| 61/61 [00:08<00:00,  7.61it/s]\n",
      "100%|█████████████████████████████████████████| 198/198 [00:25<00:00,  7.82it/s]\n"
     ]
    }
   ],
   "source": [
    "path = 'Alzheimers-ADNI/train_new/AD'\n",
    "trainImageGenarator('AD', path, 'AD')\n",
    "\n",
    "path = 'Alzheimers-ADNI/train_new/CN'\n",
    "trainImageGenarator('CN', path, 'CN')\n",
    "\n",
    "path = 'Alzheimers-ADNI/train_new/EMCI'\n",
    "trainImageGenarator('EMCI', path, 'EMCI')\n",
    "\n",
    "path = 'Alzheimers-ADNI/train_new/LMCI'\n",
    "trainImageGenarator('LMCI', path, 'LMCI')\n",
    "\n",
    "path = 'Alzheimers-ADNI/train_new/MCI'\n",
    "trainImageGenarator('MCI', path, 'MCI')"
   ]
  },
  {
   "cell_type": "code",
   "execution_count": 6,
   "id": "14879463",
   "metadata": {},
   "outputs": [],
   "source": [
    "def testImageGenarator(class_folder, img_gen_directory, image_prefix):\n",
    "\n",
    "    image_size=226\n",
    "    folderDirectory = os.path.join('Alzheimers-ADNI', 'test', class_folder)\n",
    "    for j in tqdm(os.listdir(folderDirectory)):\n",
    "        image=cv2.imread(os.path.join(folderDirectory, j))\n",
    "        image= cv2.cvtColor(image, cv2.COLOR_BGR2RGB)\n",
    "        image=cv2.resize(image, (image_size, image_size))\n",
    "        image= image.reshape(1,image_size, image_size, 3)\n",
    "    \n",
    "        k=0\n",
    "        for batch in datagen.flow(np.array(image), batch_size=32,\n",
    "                          save_to_dir= img_gen_directory,\n",
    "                          save_prefix=image_prefix,\n",
    "                          save_format='jpg'):\n",
    "            k += 1 \n",
    "            if k > 5:\n",
    "                break"
   ]
  },
  {
   "cell_type": "code",
   "execution_count": 8,
   "id": "7c50e6bd",
   "metadata": {},
   "outputs": [
    {
     "name": "stderr",
     "output_type": "stream",
     "text": [
      "100%|███████████████████████████████████████████| 26/26 [00:03<00:00,  8.12it/s]\n",
      "100%|███████████████████████████████████████████| 87/87 [00:10<00:00,  8.19it/s]\n",
      "100%|███████████████████████████████████████████| 36/36 [00:04<00:00,  8.14it/s]\n",
      "100%|███████████████████████████████████████████| 11/11 [00:01<00:00,  8.32it/s]\n",
      "100%|███████████████████████████████████████████| 35/35 [00:04<00:00,  7.76it/s]\n"
     ]
    }
   ],
   "source": [
    "path = 'Alzheimers-ADNI/test_new/AD'\n",
    "testImageGenarator('AD', path, 'AD')\n",
    "\n",
    "path = 'Alzheimers-ADNI/test_new/CN'\n",
    "testImageGenarator('CN', path, 'CN')\n",
    "\n",
    "path = 'Alzheimers-ADNI/test_new/EMCI'\n",
    "testImageGenarator('EMCI', path, 'EMCI')\n",
    "\n",
    "path = 'Alzheimers-ADNI/test_new/LMCI'\n",
    "testImageGenarator('LMCI', path, 'LMCI')\n",
    "\n",
    "path = 'Alzheimers-ADNI/test_new/MCI'\n",
    "testImageGenarator('MCI', path, 'MCI')"
   ]
  },
  {
   "cell_type": "code",
   "execution_count": null,
   "id": "afc3032b",
   "metadata": {},
   "outputs": [],
   "source": []
  }
 ],
 "metadata": {
  "kernelspec": {
   "display_name": "Python 3",
   "language": "python",
   "name": "python3"
  },
  "language_info": {
   "codemirror_mode": {
    "name": "ipython",
    "version": 3
   },
   "file_extension": ".py",
   "mimetype": "text/x-python",
   "name": "python",
   "nbconvert_exporter": "python",
   "pygments_lexer": "ipython3",
   "version": "3.8.8"
  }
 },
 "nbformat": 4,
 "nbformat_minor": 5
}
